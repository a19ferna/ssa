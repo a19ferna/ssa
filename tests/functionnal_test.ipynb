{
 "cells": [
  {
   "cell_type": "markdown",
   "metadata": {},
   "source": [
    "# Quick demo of the package"
   ]
  },
  {
   "cell_type": "code",
   "execution_count": 4,
   "metadata": {},
   "outputs": [],
   "source": [
    "import pandas as pd\n",
    "import numpy as np\n",
    "from sklearn.model_selection import train_test_split"
   ]
  },
  {
   "cell_type": "code",
   "execution_count": 2,
   "metadata": {},
   "outputs": [],
   "source": [
    "import os \n",
    "os.chdir('..')\n",
    "from fairness.metrics import *\n",
    "from fairness.approximatemultiwasserstein import MultiWasserStein\n",
    "from vizualization.vizualization import viz_fairness_distrib, waterfall_plot, arrow_plot, arrow_plot_permutations, permutations_cols, calculate_perm_wst\n"
   ]
  },
  {
   "cell_type": "code",
   "execution_count": 5,
   "metadata": {},
   "outputs": [],
   "source": [
    "# Simulation of the dataset\n",
    "# 10 000 observations\n",
    "# Y : Income\n",
    "# MSA : Gender, Nb_child\n",
    "\n",
    "size = 10000\n",
    "\n",
    "age = np.random.randint(18, 66, size)\n",
    "\n",
    "gender = np.random.choice(['m', 'w', 'nb'], size)\n",
    "\n",
    "nb_child = np.random.choice([0,1,2], size)\n",
    "\n",
    "# Generate incomes regarding gender with Gamma distributions\n",
    "salaries = []\n",
    "for g in gender:\n",
    "    if g == 'm':\n",
    "        salary = np.random.gamma(20, 0.5)\n",
    "    elif g == 'w':\n",
    "        salary = np.random.gamma(2, 2)\n",
    "    else:\n",
    "        salary = np.random.gamma(0.5, 6)\n",
    "    salaries.append(salary)\n",
    "   \n",
    "for i, n in enumerate(nb_child):\n",
    "    if n == 0:\n",
    "        salaries[i] += np.random.binomial(6, 0.75)\n",
    "    elif g == 1:\n",
    "        salaries[i] += np.random.binomial(5, 0.66)\n",
    "    else:\n",
    "        salaries[i] += np.random.binomial(1, 0.2)\n",
    "    \n",
    "\n",
    "# Creation of the dataframe\n",
    "df = pd.DataFrame({\n",
    "    'Age': age,\n",
    "    'Gender': gender,\n",
    "    'Nb_child': nb_child,\n",
    "    'Income': salaries\n",
    "})"
   ]
  },
  {
   "cell_type": "code",
   "execution_count": 6,
   "metadata": {},
   "outputs": [],
   "source": [
    "# Creation of the objects useful for the package\n",
    "x_ssa = df[['Gender','Nb_child']].to_numpy()\n",
    "y_ssa = df['Income'].to_numpy()\n",
    "x_ssa_calib, x_ssa_test, y_calib, y_test = train_test_split(x_ssa,y_ssa, test_size=0.3)"
   ]
  },
  {
   "cell_type": "code",
   "execution_count": 7,
   "metadata": {},
   "outputs": [
    {
     "data": {
      "text/plain": [
       "array([16.06075998,  4.03663364,  7.03784294, ..., 11.11511595,\n",
       "        5.63812318,  5.45193418])"
      ]
     },
     "execution_count": 7,
     "metadata": {},
     "output_type": "execute_result"
    }
   ],
   "source": [
    "# Instance of Wasserstein class\n",
    "wst = MultiWasserStein()\n",
    "wst.fit(y_calib, x_ssa_calib)\n",
    "wst.transform(y_test, x_ssa_test) # returns the y_fair\n",
    "\n",
    "# To have all the steps of sequential fairness, you can return the dictionnary \n",
    "wst.get_sequential_fairnsess()"
   ]
  }
 ],
 "metadata": {
  "kernelspec": {
   "display_name": "Python 3",
   "language": "python",
   "name": "python3"
  },
  "language_info": {
   "codemirror_mode": {
    "name": "ipython",
    "version": 3
   },
   "file_extension": ".py",
   "mimetype": "text/x-python",
   "name": "python",
   "nbconvert_exporter": "python",
   "pygments_lexer": "ipython3",
   "version": "3.11.5"
  }
 },
 "nbformat": 4,
 "nbformat_minor": 2
}
